{
 "cells": [
  {
   "cell_type": "markdown",
   "source": [
    "# 1. Collecting historical data (12 marks)\n",
    "Using the 2-year historical daily stock prices from the attached spreadsheet (from 31/12/2020 to 30/12/2022), compute the parameters for each stock and stock pairs, which would be used in the next part of this assignment. [Formulas as in Lecture Powerpoint Topic 1-1, slide 97 or Course Notes Chapter 2, p.33]"
   ],
   "metadata": {
    "collapsed": false,
    "pycharm": {
     "name": "#%% md\n"
    }
   }
  },
  {
   "cell_type": "markdown",
   "source": [
    "### Import the libs and the data"
   ],
   "metadata": {
    "collapsed": false,
    "pycharm": {
     "name": "#%% md\n"
    }
   }
  },
  {
   "cell_type": "code",
   "execution_count": 277,
   "outputs": [
    {
     "data": {
      "text/plain": "         Date      1      5     16   288    388    823   883   2020    2269  \\\n0  2020/12/31  54.50  40.65  100.1  6.53  430.0  70.85  7.22  123.0  102.00   \n1    2021/1/4  55.65  40.45  103.3  6.72  441.8  71.75  7.05  127.0  103.20   \n2    2021/1/5  56.00  40.15  106.6  7.17  457.0  73.10  7.06  129.4  101.90   \n3    2021/1/6  56.10  41.50  106.6  7.06  449.0  72.75  7.36  132.8   98.00   \n4    2021/1/7  57.00  43.40  106.6  6.89  443.0  71.45  7.25  130.7   94.95   \n\n    2628  \n0  17.12  \n1  17.10  \n2  16.90  \n3  17.10  \n4  17.10  ",
      "text/html": "<div>\n<style scoped>\n    .dataframe tbody tr th:only-of-type {\n        vertical-align: middle;\n    }\n\n    .dataframe tbody tr th {\n        vertical-align: top;\n    }\n\n    .dataframe thead th {\n        text-align: right;\n    }\n</style>\n<table border=\"1\" class=\"dataframe\">\n  <thead>\n    <tr style=\"text-align: right;\">\n      <th></th>\n      <th>Date</th>\n      <th>1</th>\n      <th>5</th>\n      <th>16</th>\n      <th>288</th>\n      <th>388</th>\n      <th>823</th>\n      <th>883</th>\n      <th>2020</th>\n      <th>2269</th>\n      <th>2628</th>\n    </tr>\n  </thead>\n  <tbody>\n    <tr>\n      <th>0</th>\n      <td>2020/12/31</td>\n      <td>54.50</td>\n      <td>40.65</td>\n      <td>100.1</td>\n      <td>6.53</td>\n      <td>430.0</td>\n      <td>70.85</td>\n      <td>7.22</td>\n      <td>123.0</td>\n      <td>102.00</td>\n      <td>17.12</td>\n    </tr>\n    <tr>\n      <th>1</th>\n      <td>2021/1/4</td>\n      <td>55.65</td>\n      <td>40.45</td>\n      <td>103.3</td>\n      <td>6.72</td>\n      <td>441.8</td>\n      <td>71.75</td>\n      <td>7.05</td>\n      <td>127.0</td>\n      <td>103.20</td>\n      <td>17.10</td>\n    </tr>\n    <tr>\n      <th>2</th>\n      <td>2021/1/5</td>\n      <td>56.00</td>\n      <td>40.15</td>\n      <td>106.6</td>\n      <td>7.17</td>\n      <td>457.0</td>\n      <td>73.10</td>\n      <td>7.06</td>\n      <td>129.4</td>\n      <td>101.90</td>\n      <td>16.90</td>\n    </tr>\n    <tr>\n      <th>3</th>\n      <td>2021/1/6</td>\n      <td>56.10</td>\n      <td>41.50</td>\n      <td>106.6</td>\n      <td>7.06</td>\n      <td>449.0</td>\n      <td>72.75</td>\n      <td>7.36</td>\n      <td>132.8</td>\n      <td>98.00</td>\n      <td>17.10</td>\n    </tr>\n    <tr>\n      <th>4</th>\n      <td>2021/1/7</td>\n      <td>57.00</td>\n      <td>43.40</td>\n      <td>106.6</td>\n      <td>6.89</td>\n      <td>443.0</td>\n      <td>71.45</td>\n      <td>7.25</td>\n      <td>130.7</td>\n      <td>94.95</td>\n      <td>17.10</td>\n    </tr>\n  </tbody>\n</table>\n</div>"
     },
     "execution_count": 277,
     "metadata": {},
     "output_type": "execute_result"
    }
   ],
   "source": [
    "import pandas as pd\n",
    "import numpy as np\n",
    "# 从CSV文件中读取股票价格数据\n",
    "stock_prices = pd.read_csv('./data/stock_prices.csv')\n",
    "stock_prices.head()"
   ],
   "metadata": {
    "collapsed": false,
    "pycharm": {
     "name": "#%%\n"
    }
   }
  },
  {
   "cell_type": "markdown",
   "source": [
    "## 1.1 Annualized standard deviation of daily return."
   ],
   "metadata": {
    "collapsed": false,
    "pycharm": {
     "name": "#%% md\n"
    }
   }
  },
  {
   "cell_type": "code",
   "execution_count": 278,
   "outputs": [
    {
     "data": {
      "text/plain": "1       0.222806\n5       0.270339\n16      0.219044\n288     0.344072\n388     0.374550\n823     0.205795\n883     0.341429\n2020    0.503378\n2269    0.716768\n2628    0.279444\ndtype: float64"
     },
     "execution_count": 278,
     "metadata": {},
     "output_type": "execute_result"
    }
   ],
   "source": [
    "# 计算每日收益率\n",
    "daily_returns = stock_prices.drop(columns=['Date']).pct_change().drop(index=0)\n",
    "# 计算日收益率的标准差\n",
    "daily_std = np.std(daily_returns)\n",
    "# 将日标准差乘以根号252得到年化标准差\n",
    "annualized_std = daily_std * np.sqrt(252)\n",
    "annualized_std"
   ],
   "metadata": {
    "collapsed": false,
    "pycharm": {
     "name": "#%%\n"
    }
   }
  },
  {
   "cell_type": "markdown",
   "source": [
    "## 1.2 Annualized covariance between each pair of stocks."
   ],
   "metadata": {
    "collapsed": false,
    "pycharm": {
     "name": "#%% md\n"
    }
   }
  },
  {
   "cell_type": "code",
   "execution_count": 279,
   "outputs": [
    {
     "data": {
      "text/plain": "array([[0.04974327, 0.03095847, 0.02365935, 0.02953636, 0.02714655,\n        0.02074297, 0.02768582, 0.03040187, 0.02263696, 0.03133031],\n       [0.03095847, 0.07323199, 0.0228838 , 0.02668437, 0.02892804,\n        0.01934454, 0.03282888, 0.02430854, 0.01577333, 0.03525235],\n       [0.02365935, 0.0228838 , 0.04807796, 0.02679659, 0.0277105 ,\n        0.02472931, 0.01780029, 0.02908567, 0.02954222, 0.0226202 ],\n       [0.02953636, 0.02668437, 0.02679659, 0.11862591, 0.0457027 ,\n        0.02250091, 0.02892033, 0.04985813, 0.05283297, 0.03825967],\n       [0.02714655, 0.02892804, 0.0277105 , 0.0457027 , 0.14057282,\n        0.02772218, 0.03592605, 0.11335731, 0.14323618, 0.05911404],\n       [0.02074297, 0.01934454, 0.02472931, 0.02250091, 0.02772218,\n        0.04243761, 0.01594923, 0.02395307, 0.0311021 , 0.02283678],\n       [0.02768582, 0.03282888, 0.01780029, 0.02892033, 0.03592605,\n        0.01594923, 0.11681094, 0.04071138, 0.04611276, 0.04016451],\n       [0.03040187, 0.02430854, 0.02908567, 0.04985813, 0.11335731,\n        0.02395307, 0.04071138, 0.25390489, 0.20497662, 0.06261672],\n       [0.02263696, 0.01577333, 0.02954222, 0.05283297, 0.14323618,\n        0.0311021 , 0.04611276, 0.20497662, 0.51480058, 0.06842565],\n       [0.03133031, 0.03525235, 0.0226202 , 0.03825967, 0.05911404,\n        0.02283678, 0.04016451, 0.06261672, 0.06842565, 0.07824756]])"
     },
     "execution_count": 279,
     "metadata": {},
     "output_type": "execute_result"
    }
   ],
   "source": [
    "# 使用numpy的cov函数计算协方差矩阵\n",
    "covariance_matrix = np.cov(daily_returns, rowvar=False)\n",
    "# 将协方差矩阵乘以252得到年化协方差矩阵（老师要求乘以252）\n",
    "annualized_covariance_matrix = covariance_matrix * 252\n",
    "annualized_covariance_matrix"
   ],
   "metadata": {
    "collapsed": false,
    "pycharm": {
     "name": "#%%\n"
    }
   }
  },
  {
   "cell_type": "markdown",
   "source": [
    "## 1.3 Correlation coefficient between each pair of stocks."
   ],
   "metadata": {
    "collapsed": false,
    "pycharm": {
     "name": "#%% md\n"
    }
   }
  },
  {
   "cell_type": "code",
   "execution_count": 280,
   "outputs": [
    {
     "data": {
      "text/plain": "array([[1.        , 0.51293455, 0.48379641, 0.38450329, 0.3246361 ,\n        0.45146927, 0.36320222, 0.27051885, 0.14145928, 0.50218312],\n       [0.51293455, 1.        , 0.38566009, 0.28629699, 0.28511354,\n        0.34700249, 0.35494726, 0.17826783, 0.0812369 , 0.46569569],\n       [0.48379641, 0.38566009, 1.        , 0.35482701, 0.33707044,\n        0.54747405, 0.2375266 , 0.26325134, 0.18778057, 0.36879757],\n       [0.38450329, 0.28629699, 0.35482701, 1.        , 0.35391696,\n        0.31712815, 0.24568103, 0.28728351, 0.21379411, 0.39711477],\n       [0.3246361 , 0.28511354, 0.33707044, 0.35391696, 1.        ,\n        0.35892292, 0.28036059, 0.60001667, 0.53245454, 0.56364359],\n       [0.45146927, 0.34700249, 0.54747405, 0.31712815, 0.35892292,\n        1.        , 0.22652837, 0.23075454, 0.21042377, 0.39629995],\n       [0.36320222, 0.35494726, 0.2375266 , 0.24568103, 0.28036059,\n        0.22652837, 1.        , 0.23639516, 0.18804414, 0.42011221],\n       [0.27051885, 0.17826783, 0.26325134, 0.28728351, 0.60001667,\n        0.23075454, 0.23639516, 1.        , 0.5669559 , 0.44424177],\n       [0.14145928, 0.0812369 , 0.18778057, 0.21379411, 0.53245454,\n        0.21042377, 0.18804414, 0.5669559 , 1.        , 0.34092906],\n       [0.50218312, 0.46569569, 0.36879757, 0.39711477, 0.56364359,\n        0.39629995, 0.42011221, 0.44424177, 0.34092906, 1.        ]])"
     },
     "execution_count": 280,
     "metadata": {},
     "output_type": "execute_result"
    }
   ],
   "source": [
    "# 计算协方差矩阵的相关系数矩阵\n",
    "correlation_matrix = np.corrcoef(daily_returns, rowvar=False)\n",
    "correlation_matrix"
   ],
   "metadata": {
    "collapsed": false,
    "pycharm": {
     "name": "#%%\n"
    }
   }
  },
  {
   "cell_type": "markdown",
   "source": [
    "# 2. Finding the optimal portfolio for different asset allocation models (83 marks)\n",
    "Assume that the risk free asset has an expected return rf = 4.30%. Standard deviations and covariances should come from question 1 above, and the “expected 1-yr return” as provided in the spreadsheet should be used as the expected return of each stock."
   ],
   "metadata": {
    "collapsed": false,
    "pycharm": {
     "name": "#%% md\n"
    }
   }
  },
  {
   "cell_type": "markdown",
   "source": [
    "## i. With Modern Portfolio Theory [58 marks]\n",
    "a. Find the standard deviation and expected return of an equal weight (EW) portfolio, where all the stocks have a weight wi = 0.1."
   ],
   "metadata": {
    "collapsed": false,
    "pycharm": {
     "name": "#%% md\n"
    }
   }
  },
  {
   "cell_type": "code",
   "execution_count": 281,
   "outputs": [
    {
     "data": {
      "text/plain": "array([0.089, 0.149, 0.121, 0.107, 0.22 , 0.065, 0.165, 0.104, 0.185,\n       0.17 ])"
     },
     "execution_count": 281,
     "metadata": {},
     "output_type": "execute_result"
    }
   ],
   "source": [
    "# 导入 expected_return\n",
    "expected_return = pd.read_csv('./data/expected_return.csv')\n",
    "tmp = []\n",
    "for e in expected_return['expected_return']:\n",
    "    a = float(e.strip('%'))\n",
    "    b = a/100\n",
    "    e = round(b,6)\n",
    "    tmp.append(e)\n",
    "expected_return = np.array(tmp)\n",
    "expected_return"
   ],
   "metadata": {
    "collapsed": false,
    "pycharm": {
     "name": "#%%\n"
    }
   }
  },
  {
   "cell_type": "code",
   "execution_count": 282,
   "outputs": [
    {
     "name": "stdout",
     "output_type": "stream",
     "text": [
      "1.4335398410933216\n",
      "等权重组合的预期收益率：13.75%\n",
      "等权重组合的预期标准差：22.45%\n"
     ]
    }
   ],
   "source": [
    "# 风险无息资产的预期回报率为4.30%\n",
    "rf = 0.043\n",
    "\n",
    "w = 0.1\n",
    "\n",
    "# 计算等权重组合的预期收益率\n",
    "weights = np.array([w for i in range(len(expected_return))])\n",
    "expected_portfolio_return = np.sum(expected_return * weights)\n",
    "print(np.dot(annualized_std,annualized_std))\n",
    "# 计算等权重组合的预期标准差\n",
    "annualized_std = np.array(annualized_std)\n",
    "\n",
    "# 计算等权重组合的预期标准差\n",
    "portfolio_std = np.sqrt(np.dot(weights.T, np.dot(annualized_covariance_matrix, weights)))\n",
    "\n",
    "print(\"等权重组合的预期收益率：{:.2%}\".format(expected_portfolio_return))\n",
    "print(\"等权重组合的预期标准差：{:.2%}\".format(portfolio_std))"
   ],
   "metadata": {
    "collapsed": false,
    "pycharm": {
     "name": "#%%\n"
    }
   }
  },
  {
   "cell_type": "markdown",
   "source": [
    "b. Find the global minimum variance (MV) portfolio. Give the standard deviation and expected return of the portfolio, and the weights of the stocks."
   ],
   "metadata": {
    "collapsed": false,
    "pycharm": {
     "name": "#%% md\n"
    }
   }
  },
  {
   "cell_type": "code",
   "execution_count": 283,
   "outputs": [
    {
     "name": "stdout",
     "output_type": "stream",
     "text": [
      "standard deviation: 0.1703251\n",
      "expected return: 0.10184622\n",
      "weights: [0.19192843 0.09012493 0.22283607 0.02982065 0.         0.35748866\n",
      " 0.07619491 0.         0.         0.03160636]\n"
     ]
    }
   ],
   "source": [
    "from scipy.optimize import minimize\n",
    "import numpy as np\n",
    "\n",
    "x = []\n",
    "y = []\n",
    "f = []\n",
    "\n",
    "def port_vari(weight):\n",
    "    weight = np.array(weight)\n",
    "    return np.sqrt(np.dot(weight.T, np.dot(annualized_covariance_matrix,weight)))\n",
    "\n",
    "cons = ({'type': 'eq', 'fun': lambda w: w.sum() - 1},)\n",
    "res1 = minimize(port_vari, weights, method='SLSQP', bounds=((0.0,1.0),)*10, constraints=cons)\n",
    "print(\"standard deviation:\", np.round(res1.fun,8))\n",
    "print(\"expected return:\", np.round( sum(res1.x*expected_return),8))\n",
    "print(\"weights:\", np.round(res1.x,8))"
   ],
   "metadata": {
    "collapsed": false,
    "pycharm": {
     "name": "#%%\n"
    }
   }
  },
  {
   "cell_type": "markdown",
   "source": [
    "c. Draw the efficient frontier, short sale not allowed."
   ],
   "metadata": {
    "collapsed": false,
    "pycharm": {
     "name": "#%% md\n"
    }
   }
  },
  {
   "cell_type": "code",
   "execution_count": 284,
   "outputs": [
    {
     "data": {
      "text/plain": "[<matplotlib.lines.Line2D at 0x17ff5ddc0>]"
     },
     "execution_count": 284,
     "metadata": {},
     "output_type": "execute_result"
    },
    {
     "data": {
      "text/plain": "<Figure size 432x288 with 1 Axes>",
      "image/png": "[encoded data removed]"
     },
     "metadata": {
      "needs_background": "light"
     },
     "output_type": "display_data"
    }
   ],
   "source": [
    "import matplotlib.pyplot as plt\n",
    "\n",
    "for i in np.arange(expected_return.min(),expected_return.max(),0.001):\n",
    "    cons = ({'type': 'eq', 'fun': lambda w: w.sum() - 1},\n",
    "            {'type': 'eq', 'fun': lambda w: (w*expected_return).sum() - i}\n",
    "        )\n",
    "    w = [0.1,0.1,0.1,0.1,0.1,0.1,0.1,0.1,0.1,0.1]\n",
    "    w = np.array(w)\n",
    "    res = minimize(port_vari, w, method='SLSQP', bounds=((0.0,1.0),)*10, constraints=cons)\n",
    "    x.append(res.fun)\n",
    "    y.append(i)\n",
    "    f.append(res.x)\n",
    "\n",
    "plt.plot(x,y)\n",
    "plt.plot(round(res1.fun,4),round(sum(expected_return*res1.x),4),'ko',label='组合最小波动率点',c = 'r')"
   ],
   "metadata": {
    "collapsed": false,
    "pycharm": {
     "name": "#%%\n"
    }
   }
  },
  {
   "cell_type": "markdown",
   "source": [
    "d. Find the optimal portfolio to be combined with the risk free asset, short sale not allowed (corresponds to case (c) above). State the standard deviation  and expected return of this portfolio. Give the weights of the stocks."
   ],
   "metadata": {
    "collapsed": false,
    "pycharm": {
     "name": "#%% md\n"
    }
   }
  },
  {
   "cell_type": "code",
   "execution_count": 285,
   "outputs": [
    {
     "name": "stdout",
     "output_type": "stream",
     "text": [
      "standard deviation: 0.214142\n",
      "expected return: 0.168279\n",
      "weights: [0.       0.215633 0.205186 0.       0.272654 0.       0.154278 0.\n",
      " 0.       0.152249]\n"
     ]
    }
   ],
   "source": [
    "rf=0.043\n",
    "\n",
    "cons = ({'type': 'eq', 'fun': lambda w: w.sum() - 1}\n",
    "    )\n",
    "def fun(w):\n",
    "    premium=(w*expected_return).sum()-rf\n",
    "    sigmap=np.sqrt(w.T.dot(annualized_covariance_matrix).dot(w))\n",
    "    SR=premium/sigmap\n",
    "    return -SR\n",
    "\n",
    "res2 = minimize(fun,weights,method='SLSQP',bounds=((0.0,1.0),)*10, constraints=cons)\n",
    "\n",
    "print(\"standard deviation:\", np.round( (sum(res2.x*expected_return)-rf)/(-res2.fun),6))\n",
    "print(\"expected return:\", np.round(sum(res2.x*expected_return),6))\n",
    "print(\"weights:\", np.round(res2.x,6))"
   ],
   "metadata": {
    "collapsed": false,
    "pycharm": {
     "name": "#%%\n"
    }
   }
  },
  {
   "cell_type": "markdown",
   "source": [
    "e.Your company’s analyst has updated her forecast of WH Group and Link REIT,  where the expected 1-yr returns of these stocks have changed to 16.90% and  12.70%. Repeat 2(i)(d) above. Comment on the expected and/or unexpected changes in the weights of the stocks."
   ],
   "metadata": {
    "collapsed": false,
    "pycharm": {
     "name": "#%% md\n"
    }
   }
  },
  {
   "cell_type": "code",
   "execution_count": 286,
   "outputs": [
    {
     "name": "stdout",
     "output_type": "stream",
     "text": [
      "standard deviation: 0.19772\n",
      "expected return: 0.163263\n",
      "weights: [0.       0.16661  0.049457 0.108997 0.211768 0.2476   0.12956  0.\n",
      " 0.       0.086008]\n"
     ]
    }
   ],
   "source": [
    "rf=0.043\n",
    "\n",
    "cons = ({'type': 'eq', 'fun': lambda w: w.sum() - 1})\n",
    "\n",
    "expected_return_changed = np.array([0.089,0.149,0.121,0.169,0.22,0.127,0.165,0.104,0.185,0.17])\n",
    "\n",
    "def fun(w):\n",
    "    premium=(w*expected_return_changed).sum()-rf\n",
    "    sigmap=np.sqrt(w.T.dot(annualized_covariance_matrix).dot(w))\n",
    "    SR=premium/sigmap\n",
    "    return -SR\n",
    "\n",
    "res3 = minimize(fun,weights,method='SLSQP',bounds=((0.0,1.0),)*10, constraints=cons)\n",
    "print(\"standard deviation:\", np.round( (sum(res3.x*expected_return_changed)-rf)/(-res3.fun),6))\n",
    "print(\"expected return:\", np.round(sum(res3.x*expected_return_changed),6))\n",
    "print(\"weights:\", np.round(res3.x,6))"
   ],
   "metadata": {
    "collapsed": false,
    "pycharm": {
     "name": "#%%\n"
    }
   }
  },
  {
   "cell_type": "markdown",
   "source": [
    "## With the Risk-Parity strategy1 [25 marks]\n",
    "a. Find the optimal ERC portfolio. State the marginal risk contribution of each stock and give the weights of the stocks."
   ],
   "metadata": {
    "collapsed": false,
    "pycharm": {
     "name": "#%% md\n"
    }
   }
  },
  {
   "cell_type": "code",
   "execution_count": 287,
   "outputs": [
    {
     "name": "stdout",
     "output_type": "stream",
     "text": [
      "marginal risk: [0.152818 0.165138 0.141669 0.207448 0.268202 0.129983 0.193788 0.322212\n",
      " 0.397814 0.210486]\n",
      "weights: [0.129287 0.12096  0.137463 0.093232 0.071445 0.143726 0.100091 0.062138\n",
      " 0.049144 0.092514]\n"
     ]
    }
   ],
   "source": [
    "def fun(w):\n",
    "    f=0\n",
    "    for i in range(10):\n",
    "        for j in range(10):\n",
    "            f += (w[i]*annualized_covariance_matrix[i].dot(w)-w[j]*annualized_covariance_matrix[j].dot(w))**2\n",
    "    return f\n",
    "\n",
    "res4 = minimize(fun,weights,method='SLSQP',bounds=((0.0,1.0),)*10, constraints=cons)\n",
    "\n",
    "sd_p = np.sqrt(res4.x.T.dot(annualized_covariance_matrix).dot(res4.x))\n",
    "mri = [annualized_covariance_matrix[i].dot(res4.x)/sd_p for i in range(10)]\n",
    "print(\"marginal risk:\", np.round(mri,6))\n",
    "print(\"weights:\", np.round(res4.x,6))"
   ],
   "metadata": {
    "collapsed": false,
    "pycharm": {
     "name": "#%%\n"
    }
   }
  },
  {
   "cell_type": "markdown",
   "source": [
    "b. Calculate the leverage factor for the leveraged ERC portfolio, with a standard deviation of the portfolio equal to your answer in 2(i)(a) above. Find the expected return of this portfolio."
   ],
   "metadata": {
    "collapsed": false,
    "pycharm": {
     "name": "#%% md\n"
    }
   }
  },
  {
   "cell_type": "code",
   "execution_count": 288,
   "outputs": [
    {
     "name": "stdout",
     "output_type": "stream",
     "text": [
      "leverage factor:  \n",
      " 1.152475\n",
      "expected return:  \n",
      " 0.245836\n"
     ]
    }
   ],
   "source": [
    "shaper_ratio = (sum(res.x*expected_return)-rf)/sd_p\n",
    "lf = portfolio_std/sd_p\n",
    "print(\"leverage factor:  \\n\", np.round(lf,6))\n",
    "er = rf + portfolio_std*shaper_ratio\n",
    "print(\"expected return:  \\n\", np.round(er,6))"
   ],
   "metadata": {
    "collapsed": false,
    "pycharm": {
     "name": "#%%\n"
    }
   }
  }
 ],
 "metadata": {
  "kernelspec": {
   "display_name": "Python 3",
   "language": "python",
   "name": "python3"
  },
  "language_info": {
   "codemirror_mode": {
    "name": "ipython",
    "version": 2
   },
   "file_extension": ".py",
   "mimetype": "text/x-python",
   "name": "python",
   "nbconvert_exporter": "python",
   "pygments_lexer": "ipython2",
   "version": "2.7.6"
  }
 },
 "nbformat": 4,
 "nbformat_minor": 0
}